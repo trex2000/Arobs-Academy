{
  "nbformat": 4,
  "nbformat_minor": 0,
  "metadata": {
    "colab": {
      "name": "mib-lab1.ipynb",
      "provenance": [],
      "collapsed_sections": []
    },
    "kernelspec": {
      "name": "python3",
      "display_name": "Python 3"
    }
  },
  "cells": [
    {
      "cell_type": "markdown",
      "metadata": {
        "id": "qw8svAr0OpSR"
      },
      "source": [
        "# Tipuri de celule\n",
        "\n",
        "Un document interactiv Colab conține două tipuri de celule: cod și text (**formatat** *dacă* `este` nevoie). Acesta este o celulă de tip text. "
      ]
    },
    {
      "cell_type": "code",
      "metadata": {
        "colab": {
          "base_uri": "https://localhost:8080/"
        },
        "id": "No4DvZHoPekX",
        "outputId": "4c7152e0-71e9-469d-9be2-ca890b3a1bf4"
      },
      "source": [
        "# Pentru rulare apăsați butonul play din stânga sau selectați celula și apăsați Shift+Enter\n",
        "print('Iar acesta este o celulă de tip cod.')"
      ],
      "execution_count": null,
      "outputs": [
        {
          "output_type": "stream",
          "text": [
            "Iar acesta este o celulă de tip cod.\n"
          ],
          "name": "stdout"
        }
      ]
    },
    {
      "cell_type": "markdown",
      "metadata": {
        "id": "DONllmdBQE5f"
      },
      "source": [
        "# Comenzi sistem\n",
        "\n",
        "Notebook-ul Colab rulează într-o mașină virtuală la care avem accesa direct. Pentru a rula comenzi în terminalul VM, acestea trebuie prefixate cu semnul exclamării.  "
      ]
    },
    {
      "cell_type": "code",
      "metadata": {
        "id": "NKHIzuH-QEHJ"
      },
      "source": [
        "!touch fisiernou1.txt\n",
        "!echo \"Hello, World!\" > fisiernou2.txt\n",
        "\n",
        "print('Listare fisiere\\n')\n",
        "!ls -l\n",
        "\n",
        "print('Calea directorului de lucru actual este:\\n')\n",
        "!pwd\n",
        "print('Listare continut fisiernou2.txt\\n')\n",
        "!cat fisiernou2.txt"
      ],
      "execution_count": null,
      "outputs": []
    },
    {
      "cell_type": "code",
      "metadata": {
        "id": "p6a-BBVfTdKW"
      },
      "source": [
        "print('Listare versiune Python\\n')\n",
        "!python --version"
      ],
      "execution_count": null,
      "outputs": []
    },
    {
      "cell_type": "code",
      "metadata": {
        "id": "v20votZ-T3im"
      },
      "source": [
        "print('Listare informatii VM\\n')\n",
        "!df -h\n",
        "!lscpu\n",
        "!cat /proc/cpuinfo\n",
        "!cat /proc/meminfo | egrep 'MemTotal'\n"
      ],
      "execution_count": null,
      "outputs": []
    },
    {
      "cell_type": "code",
      "metadata": {
        "colab": {
          "base_uri": "https://localhost:8080/"
        },
        "id": "POhxnkYdSlr3",
        "outputId": "a62155da-0439-4ad0-82ab-29fbdb3b9ff0"
      },
      "source": [
        "print('Stergerea fisierelor txt create\\n')\n",
        "!rm *.txt\n",
        "!ls"
      ],
      "execution_count": null,
      "outputs": [
        {
          "output_type": "stream",
          "text": [
            "Stergerea fisierelor txt create\n",
            "\n",
            "sample_data\n"
          ],
          "name": "stdout"
        }
      ]
    },
    {
      "cell_type": "code",
      "metadata": {
        "id": "kY9Tpq4rVkUE"
      },
      "source": [
        "print('Instalarea unor librarii Python cu pip\\n')\n",
        "!pip install deap"
      ],
      "execution_count": null,
      "outputs": []
    },
    {
      "cell_type": "markdown",
      "metadata": {
        "id": "V1_cqTD3piOt"
      },
      "source": [
        "# Încărcare și descărcare de date\n",
        "\n",
        "Datele necesare procesării în Google Colab pot fi încărcate interactiv, montate în Google Drive sau importate din orice sursă de pe internet. La fel, salvarea se poate face în Google Drive sau fișierele pot fi descărcate."
      ]
    },
    {
      "cell_type": "markdown",
      "metadata": {
        "id": "1yxf2fvkWsdo"
      },
      "source": [
        "## Încărcarea fișierelor din sistemul de fișiere local \n",
        "\n",
        "`files.upload` returnează un dicționar al fișierelor încărcate. \n"
      ]
    },
    {
      "cell_type": "code",
      "metadata": {
        "id": "ebiYVKFQLUPK"
      },
      "source": [
        "from google.colab import files\n",
        "\n",
        "uploaded = files.upload()\n",
        "\n",
        "for fn in uploaded.keys():\n",
        "  print('A fost incarcat fisierul \"{name}\" de marimea {length} bytes'.format(\n",
        "      name=fn, length=len(uploaded[fn])))"
      ],
      "execution_count": null,
      "outputs": []
    },
    {
      "cell_type": "markdown",
      "metadata": {
        "id": "mGehZxupctea"
      },
      "source": [
        "## Descărcarea fișierelor\n",
        "\n",
        "`files.download` va invoca o descărcare prin browser a fișierlor. "
      ]
    },
    {
      "cell_type": "code",
      "metadata": {
        "id": "ZvW3s1NPXHE2"
      },
      "source": [
        "from google.colab import files\n",
        "import random\n",
        "\n",
        "x = random.choices(range(0, 9), k=20)\n",
        "print(x)\n",
        "\n",
        "with open('numere.txt', 'w') as f:\n",
        "  f.write(str(x))\n",
        "\n",
        "!cat numere.txt\n",
        "\n",
        "files.download('numere.txt')"
      ],
      "execution_count": null,
      "outputs": []
    },
    {
      "cell_type": "markdown",
      "metadata": {
        "id": "ApRO4XZIdLu7"
      },
      "source": [
        "## Montarea Google Drive\n",
        "\n",
        "Google Drive se poate monta pe runtime folosind un cod de autorizare obținut după un pas de logare-autorizare cu contul Google asociat. După montare, fișierele din Drive sunt accesibile pentru citire și scriere. "
      ]
    },
    {
      "cell_type": "code",
      "metadata": {
        "colab": {
          "base_uri": "https://localhost:8080/"
        },
        "id": "5ONMDxXWa21i",
        "outputId": "839131e1-e4ba-4aaf-9251-251882987333"
      },
      "source": [
        "from google.colab import drive\n",
        "drive.mount('/content/drive')"
      ],
      "execution_count": null,
      "outputs": [
        {
          "output_type": "stream",
          "text": [
            "Mounted at /content/drive\n"
          ],
          "name": "stdout"
        }
      ]
    },
    {
      "cell_type": "code",
      "metadata": {
        "id": "O9d1bzLarEve"
      },
      "source": [
        "!ls '/content/drive/MyDrive'"
      ],
      "execution_count": null,
      "outputs": []
    },
    {
      "cell_type": "code",
      "metadata": {
        "id": "0Nr-pcMArNHu"
      },
      "source": [
        "with open('/content/drive/MyDrive/hello.txt', 'w') as f:\n",
        "  f.write('Hello, Google Drive!')\n",
        "!cat '/content/drive/MyDrive/hello.txt'"
      ],
      "execution_count": null,
      "outputs": []
    },
    {
      "cell_type": "code",
      "metadata": {
        "id": "dqpDtki8rly5"
      },
      "source": [
        "drive.flush_and_unmount()\n",
        "print('Toate modificarile efectuate in aceasta sesiune colab sunt acum vizibile în Drive. Verificati accesand drive.google.com')"
      ],
      "execution_count": null,
      "outputs": []
    },
    {
      "cell_type": "markdown",
      "source": [
        "## Rezolvarea exercițiilor\n",
        "\n",
        "Delimitați exercițiile rezolvate cu celule de tip text ce conțin textul \"Rezolvare exercițiu X\" și opțional informații, observații necesare pentru a înțelege soluția.\n",
        "\n",
        "De exemplu:"
      ],
      "metadata": {
        "id": "6VxLS1KDTK1K"
      }
    },
    {
      "cell_type": "markdown",
      "source": [
        "### Rezolvare exercițiu 3\n",
        "\n",
        "Generez aleatoriu 10000 șiruri binare de lungime 100 folosind `random.choices` și o listă de liste."
      ],
      "metadata": {
        "id": "E8YDshKETtfn"
      }
    },
    {
      "cell_type": "code",
      "source": [
        "import random\n",
        "\n",
        "sb = [random.choices([0,1], k=10) for _ in range(10000)]\n",
        "\n",
        "print('Numarul sirurilor binare:', len(sb))\n",
        "\n",
        "print('Primul sir binar este', sb[0])\n",
        "print('Ultimul sir binar este', sb[-1])"
      ],
      "metadata": {
        "colab": {
          "base_uri": "https://localhost:8080/"
        },
        "id": "cVlzua6zUUWk",
        "outputId": "02cfea23-1c4c-434a-df60-4c5b43a6f8a5"
      },
      "execution_count": null,
      "outputs": [
        {
          "output_type": "stream",
          "name": "stdout",
          "text": [
            "Numarul sirurilor binare: 10000\n",
            "Primul sir binar este [1, 0, 0, 0, 1, 1, 1, 0, 1, 0]\n",
            "Ultimul sir binar este [0, 1, 0, 1, 0, 1, 0, 1, 0, 0]\n"
          ]
        }
      ]
    },
    {
      "cell_type": "markdown",
      "metadata": {
        "id": "9ehupmW71MvZ"
      },
      "source": [
        "\n",
        "\n",
        "---\n",
        "\n",
        "\n"
      ]
    },
    {
      "cell_type": "markdown",
      "metadata": {
        "id": "gaQsvLaHsFPW"
      },
      "source": [
        "# Exerciții\n",
        "\n",
        "1.   Pentru reîmprospătarea și aprofundarea cunoștințelor Python, rulați selectiv exemplele din tutorialul [A Crash Course in Python for Scientists](https://nbviewer.jupyter.org/gist/rpmuller/5920182) în acest notebook, prin inserarea de noi celule cod. Unele exemple trebuie adaptate pentru Python 3 (ex. `print x` devine `print(x)`, `7/3` nu este trunchiat, rezultatul va fi deja tip `float` etc.).\n",
        "2.   Încărcați acest [fișier csv](https://people.sc.fsu.edu/~jburkardt/data/csv/hw_200.csv) în Google Drive-ul personal. Apoi,\n",
        "    * citiți fișierul din Drive și transformați datele în sistemul metric (cm și kg);\n",
        "    * vizualizați datele cu ajutorul unui [scatterplot](https://pythonspot.com/matplotlib-scatterplot/);\n",
        "    * [salvați](https://matplotlib.org/3.1.1/api/_as_gen/matplotlib.pyplot.savefig.html) și descărcați imaginea obținută pe calculator ([nu uitați să etichetați axele](https://matplotlib.org/3.1.0/gallery/pyplots/fig_axes_labels_simple.html));\n",
        "    * afișați care este înălțimea și greutatea minimă, maximă și medie. \n",
        "3. [Generați aleatoriu](https://www.geeksforgeeks.org/random-choices-method-in-python/) 10000 de șiruri binare de lungime 100.\n",
        "4. Calculați suma de biți pentru fiecare șir și vizualizați distribuția sumelor cu o [histogramă](https://matplotlib.org/3.1.1/gallery/statistics/hist.html). \n",
        "5. Salvați într-un fișier din Google Drive șirurile a căror sumă depășește 70.\n",
        "6. Lecturați articolul [A history of evolutionary computation](https://www.researchgate.net/publication/216300863_A_history_of_evolutionary_computation) de Kenneth De Jong, David B. Fogel și Hans-Paul Schwefel și răspundeți la următoarele întrebări (într-o celulă nouă de tip text):\n",
        "\t- 6.1 Când și în cadrul a căror studii a fost utilizat pentru prima dată un proces evolutiv pentru rezolvarea unor probleme pe calculator?\n",
        "\t- 6.2 Care a fost tema acestor studii?\n",
        "\t- 6.3 Care este semnificația următoarelor abrevieri: REVOP, EP, ES, GA, FOGA, PPSN?\n",
        "\t- 6.4 Cine și când a propus ideile care stau la baza algoritmilor genetici?\n",
        "\t- 6.5 Cine și când a propus ideile care stau la baza programării genetice (genetic programming)?\n",
        "\t- 6.6 Care sunt câteva (domenii de) aplicații ale calcului evolutiv?\n",
        "\n"
      ]
    },
    {
      "cell_type": "markdown",
      "source": [
        "## Nu uitați!\n",
        "\n",
        "La sfârșitul orei de laborator salvați notebook-ul editat în GitHub! **File→Save a copy to GitHub**  și urmați instrucțiunile afișate și acordați Colab permisiunea `Commit & Push` către repo-ul laboratorului."
      ],
      "metadata": {
        "id": "mdkrGszCRZrs"
      }
    }
  ]
}